{
  "nbformat": 4,
  "nbformat_minor": 0,
  "metadata": {
    "colab": {
      "provenance": [],
      "collapsed_sections": [
        "KAX1CF05smVe"
      ],
      "authorship_tag": "ABX9TyO/DF7QTGzoUwGH9H35vp5q",
      "include_colab_link": true
    },
    "kernelspec": {
      "name": "python3",
      "display_name": "Python 3"
    },
    "language_info": {
      "name": "python"
    }
  },
  "cells": [
    {
      "cell_type": "markdown",
      "metadata": {
        "id": "view-in-github",
        "colab_type": "text"
      },
      "source": [
        "<a href=\"https://colab.research.google.com/github/Malikumair786/Machine_Learning/blob/main/AI_Labs.ipynb\" target=\"_parent\"><img src=\"https://colab.research.google.com/assets/colab-badge.svg\" alt=\"Open In Colab\"/></a>"
      ]
    },
    {
      "cell_type": "markdown",
      "source": [
        "#**Lab 1**"
      ],
      "metadata": {
        "id": "ffILsQDGnfQD"
      }
    },
    {
      "cell_type": "markdown",
      "source": [
        "# Lab activities"
      ],
      "metadata": {
        "id": "KAX1CF05smVe"
      }
    },
    {
      "cell_type": "markdown",
      "source": [
        "**Activity 1**\n",
        "\n",
        "Even number or odd number"
      ],
      "metadata": {
        "id": "x0Wiui5Enkm2"
      }
    },
    {
      "cell_type": "code",
      "execution_count": null,
      "metadata": {
        "colab": {
          "base_uri": "https://localhost:8080/"
        },
        "id": "b-3yq_hJnchi",
        "outputId": "8494f56d-7dbe-4294-d149-45af1de9d878"
      },
      "outputs": [
        {
          "output_type": "stream",
          "name": "stdout",
          "text": [
            "Enter a number: 43\n",
            "The number is odd\n"
          ]
        }
      ],
      "source": [
        "n = input(\"Enter a number: \")\n",
        "if int(n)%2 == 0:\n",
        "  print(\"The number is even\")\n",
        "else:\n",
        "  print(\"The number is odd\")"
      ]
    },
    {
      "cell_type": "markdown",
      "source": [
        "**activity 2**\n",
        "\n",
        "Write a Python code to keep accepting integer values from user until 0 is entered. Display sum of the\n",
        "given values. "
      ],
      "metadata": {
        "id": "j-QWbGzUoXZA"
      }
    },
    {
      "cell_type": "code",
      "source": [
        "sum = 0\n",
        "s = input(\"Enter the integer: \")\n",
        "n = int(s)\n",
        "while n!= 0:\n",
        "  sum+=n\n",
        "  s = input(\"Enter the integer: \")\n",
        "  n = int(s)\n",
        "print(\"The sum of the given values are: \",sum)"
      ],
      "metadata": {
        "colab": {
          "base_uri": "https://localhost:8080/"
        },
        "id": "Ol5FW9KPoKc3",
        "outputId": "5e12e4a5-d1bc-4836-eec0-a03ad105091c"
      },
      "execution_count": null,
      "outputs": [
        {
          "output_type": "stream",
          "name": "stdout",
          "text": [
            "Enter the integer: 10\n",
            "Enter the integer: 521\n",
            "Enter the integer: 5\n",
            "Enter the integer: 22\n",
            "Enter the integer: 0\n",
            "The sum of the given values are:  558\n"
          ]
        }
      ]
    },
    {
      "cell_type": "markdown",
      "source": [
        "**Activity 3**"
      ],
      "metadata": {
        "id": "Y8-c-MFvpWjG"
      }
    },
    {
      "cell_type": "code",
      "source": [
        "isPrime = True\n",
        "i = 2\n",
        "n = int(input(\"Enter the number\"))\n",
        "while i<n:\n",
        "  remainder = n%i\n",
        "  if remainder == 0:\n",
        "    isprime = False\n",
        "    break\n",
        "  else:\n",
        "    i+=1\n",
        "if isPrime:\n",
        "  print(\"Number is prime\")\n",
        "else:\n",
        "  print(\"Numebr is not prime\")"
      ],
      "metadata": {
        "colab": {
          "base_uri": "https://localhost:8080/"
        },
        "id": "AAqpJGC3pHfe",
        "outputId": "2f5c220c-6bd2-4d74-dad6-35314913051c"
      },
      "execution_count": null,
      "outputs": [
        {
          "output_type": "stream",
          "name": "stdout",
          "text": [
            "Enter the number3\n",
            "Number is prime\n"
          ]
        }
      ]
    },
    {
      "cell_type": "markdown",
      "source": [
        "**Activity 4**\n",
        "\n",
        "Accept 5 integer values from user and display their sum. Draw flowchart before\n",
        "coding in python."
      ],
      "metadata": {
        "id": "IqXOmegpqg3I"
      }
    },
    {
      "cell_type": "code",
      "source": [
        "sum = 0\n",
        "i = 0\n",
        "while i<5:\n",
        "  i+=1\n",
        "  n = int(input(\"Enter an integer: \"))\n",
        "  sum+=n\n",
        "print(\"Sum is : \",sum)"
      ],
      "metadata": {
        "colab": {
          "base_uri": "https://localhost:8080/"
        },
        "id": "Zutr5nOnqQX-",
        "outputId": "423d5394-d906-4e52-9351-8d29c621bcf1"
      },
      "execution_count": null,
      "outputs": [
        {
          "output_type": "stream",
          "name": "stdout",
          "text": [
            "Enter an integer: 1\n",
            "Enter an integer: 2\n",
            "Enter an integer: 3\n",
            "Enter an integer: 4\n",
            "Enter an integer: 5\n",
            "Sum is :  15\n"
          ]
        }
      ]
    },
    {
      "cell_type": "markdown",
      "source": [
        "**Activity 5**\n",
        "\n",
        "Calculate the sum of all the values between 0-10 using while loop. "
      ],
      "metadata": {
        "id": "8hGWPjprrEeG"
      }
    },
    {
      "cell_type": "code",
      "source": [
        "i = 0\n",
        "sum = 0\n",
        "while i<11:\n",
        "  sum+=i\n",
        "  i+=1\n",
        "print(\"Sum is: \",sum)"
      ],
      "metadata": {
        "colab": {
          "base_uri": "https://localhost:8080/"
        },
        "id": "Euzuu49Rq-ge",
        "outputId": "aae55566-3100-492c-c765-e3f34f21b3a2"
      },
      "execution_count": null,
      "outputs": [
        {
          "output_type": "stream",
          "name": "stdout",
          "text": [
            "Sum is:  55\n"
          ]
        }
      ]
    },
    {
      "cell_type": "markdown",
      "source": [
        "**Activity 6**\n",
        "\n",
        "Take input from the keyboard and use it in your program. "
      ],
      "metadata": {
        "id": "Hl3F7hEUrl1f"
      }
    },
    {
      "cell_type": "code",
      "source": [
        "name = input(\"What is Your name: \")\n",
        "print(\"Hello \"+name+\"!\")\n",
        "age = input(\"Enter your age: \")\n",
        "print(\"Age of \"+name+\" is \"+age)\n",
        "\n",
        "job = input(\"enter your feild of study: \")\n",
        "print(\"The feild of study of \"+ name +\" is \"+job)"
      ],
      "metadata": {
        "colab": {
          "base_uri": "https://localhost:8080/"
        },
        "id": "SeZhX989rXhZ",
        "outputId": "d35fd1f8-0f81-43be-9710-5eb4baaa1975"
      },
      "execution_count": null,
      "outputs": [
        {
          "output_type": "stream",
          "name": "stdout",
          "text": [
            "What is Your name: umair\n",
            "Hello umair!\n",
            "Enter your age: 23\n",
            "Age of umair is 23\n",
            "enter your feild of study: software engineering\n",
            "The feild of study of umair is software engineering\n"
          ]
        }
      ]
    },
    {
      "cell_type": "markdown",
      "source": [
        "#Lab Tasks"
      ],
      "metadata": {
        "id": "bY_a1L0lsfms"
      }
    },
    {
      "cell_type": "markdown",
      "source": [
        "**Lab Tasks 1**\n",
        "\n",
        "Write a program that prompts the user to input an integer and then outputs the number with the digits\n",
        "reversed. For example, if the input is 12345, the output should be 54321. "
      ],
      "metadata": {
        "id": "3NDSqOxjsssV"
      }
    },
    {
      "cell_type": "code",
      "source": [
        "n = int(input(\"Enter an integer: \"))\n",
        "n = str(n)\n",
        "#print(n)\n",
        "#type(n)\n",
        "nReverse = n[::-1]\n",
        "print(nReverse)"
      ],
      "metadata": {
        "colab": {
          "base_uri": "https://localhost:8080/"
        },
        "id": "ULq_hnPxsX8H",
        "outputId": "0a112bec-3c26-4f7f-e74b-21e6b95e29ac"
      },
      "execution_count": null,
      "outputs": [
        {
          "output_type": "stream",
          "name": "stdout",
          "text": [
            "Enter an integer: 54321\n",
            "12345\n",
            "Enter an integer: 12\n",
            "21\n"
          ]
        }
      ]
    },
    {
      "cell_type": "markdown",
      "source": [
        "**Lab Task 2**"
      ],
      "metadata": {
        "id": "p25QnEPrzQwe"
      }
    },
    {
      "cell_type": "code",
      "source": [
        "noOfinteger = int(input(\"Enter the number of integres you want enter\"))\n",
        "i = 0\n",
        "sumOfEven = 0\n",
        "sumOfOdd = 0\n",
        "while i<noOfinteger:\n",
        "  i = i+1\n",
        "  n = int(input(\"Enter the number: \"))\n",
        "  if int(n)%2 == 0:\n",
        "    sumOfEven = sumOfEven+n\n",
        "  else:\n",
        "    sumOfOdd = sumOfOdd+n\n",
        "print(\"The sum of even Numbers are: \",sumOfEven,\" and the sum of odd number are: \",sumOfOdd)\n"
      ],
      "metadata": {
        "colab": {
          "base_uri": "https://localhost:8080/"
        },
        "id": "hBTXZ3FDtnLM",
        "outputId": "79b1a609-afbb-4c56-8884-17c8100a920d"
      },
      "execution_count": null,
      "outputs": [
        {
          "output_type": "stream",
          "name": "stdout",
          "text": [
            "Enter the number of integres you want enter10\n",
            "Enter the number: 0\n",
            "Enter the number: 1\n",
            "Enter the number: 2\n",
            "Enter the number: 3\n",
            "Enter the number: 4\n",
            "Enter the number: 5\n",
            "Enter the number: 6\n",
            "Enter the number: 7\n",
            "Enter the number: 8\n",
            "Enter the number: 9\n",
            "The sum of even Numbers are:  20  and the sum of odd number are:  25\n"
          ]
        }
      ]
    },
    {
      "cell_type": "markdown",
      "source": [
        "**Lab Task 3**\n",
        "\n",
        "Fibonacci series is that when you add the previous two numbers the next number is formed. You have to start from 0 and 1. "
      ],
      "metadata": {
        "id": "DpB_7ueYtyjw"
      }
    },
    {
      "cell_type": "code",
      "source": [],
      "metadata": {
        "id": "ovDlX5l2uEdx"
      },
      "execution_count": null,
      "outputs": []
    },
    {
      "cell_type": "markdown",
      "source": [
        "**Lab Taks 4**\n",
        "\n",
        "Write a Python code to accept marks of a student from 1-100 and display the grade according to the\n",
        "following formula. "
      ],
      "metadata": {
        "id": "mKjA3GbTzT-g"
      }
    },
    {
      "cell_type": "code",
      "source": [
        "n = 1\n",
        "while n == 1:\n",
        "  marks = int(input(\"Enter Your Marks: \"))\n",
        "  if marks<50:\n",
        "    print(\"Grade F\")\n",
        "  elif marks >=50 & marks<60:\n",
        "    print(\"Grade E\")\n",
        "  elif marks >=60 & marks<70:\n",
        "    print(\"Grade D\")\n",
        "  elif marks >=70 & marks<80:\n",
        "    print(\"Grade C\")\n",
        "  elif marks >=80 & marks<90:\n",
        "    print(\"Grade B\")\n",
        "  else:\n",
        "    print(\"Grade A\")\n",
        "  n = int(input(\"Enter 1 for entering the marks again\"))\n"
      ],
      "metadata": {
        "colab": {
          "base_uri": "https://localhost:8080/"
        },
        "id": "So97PLdrxdy4",
        "outputId": "1d70bc9f-7d92-4dc8-92c6-4f3cd6522ca0"
      },
      "execution_count": null,
      "outputs": [
        {
          "name": "stdout",
          "output_type": "stream",
          "text": [
            "Enter Your Marks: 34\n",
            "Grade F\n",
            "Enter 1 for entering the marks again1\n",
            "Enter Your Marks: 56\n",
            "Grade E\n",
            "Enter 1 for entering the marks again75\n"
          ]
        }
      ]
    },
    {
      "cell_type": "markdown",
      "source": [
        "**Lab Taks 5**\n",
        "\n",
        "Write a program that takes a number from user and calculate the factorial of that number."
      ],
      "metadata": {
        "id": "8B6-Q1k71baW"
      }
    },
    {
      "cell_type": "code",
      "source": [
        "fact = 1\n",
        "n = int(input(\"Enter a number\"))\n",
        "\n",
        "  print(n)\n",
        "  if n<0:\n",
        "    print(\"The factorial of negative number does not exists\")\n",
        "  elif n == 0:\n",
        "    print(\"The factorial of 0 is 1\")\n",
        "  else:\n",
        "    for n in range (1,n+1):\n",
        "      fact*=i\n",
        "    print(\"The factorial is \",fact)"
      ],
      "metadata": {
        "colab": {
          "base_uri": "https://localhost:8080/"
        },
        "id": "VjoMUMh60Qws",
        "outputId": "2c92532b-33d4-4063-ab37-80cde24b8655"
      },
      "execution_count": null,
      "outputs": [
        {
          "output_type": "stream",
          "name": "stdout",
          "text": [
            "Enter a number5\n",
            "0\n",
            "1\n",
            "2\n",
            "3\n",
            "4\n"
          ]
        }
      ]
    },
    {
      "cell_type": "code",
      "source": [
        "n = int(input(\"Enter a number: \"))\n",
        "fact = 1\n",
        "\n",
        "# check if the number is negative, positive or zero\n",
        "if n < 0:\n",
        "   print(\"Sorry, factorial does not exist for negative numbers\")\n",
        "elif n == 0:\n",
        "   print(\"The factorial of 0 is 1\")\n",
        "else:\n",
        "   for i in range(1,n+1):\n",
        "       fact = fact*i\n",
        "   print(\"The factorial of\",n,\"is\",fact)\n"
      ],
      "metadata": {
        "id": "fx4npAXy2C69",
        "colab": {
          "base_uri": "https://localhost:8080/"
        },
        "outputId": "9500a8cb-ab0f-4b05-c067-145ae9a6bae1"
      },
      "execution_count": 2,
      "outputs": [
        {
          "output_type": "stream",
          "name": "stdout",
          "text": [
            "Enter a number: 5\n",
            "The factorial of 5 is 120\n"
          ]
        }
      ]
    },
    {
      "cell_type": "code",
      "source": [],
      "metadata": {
        "id": "2aENKc8ws6dO"
      },
      "execution_count": null,
      "outputs": []
    }
  ]
}