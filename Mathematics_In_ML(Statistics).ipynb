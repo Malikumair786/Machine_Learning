{
  "nbformat": 4,
  "nbformat_minor": 0,
  "metadata": {
    "colab": {
      "name": "Mathematics In ML(Statistics).ipynb",
      "provenance": [],
      "collapsed_sections": [
        "hVK0uc3m6Wly",
        "PaUQg1b36cfF",
        "YP_04pVy9Ml3",
        "HI00HmxWJhVi"
      ],
      "authorship_tag": "ABX9TyPC2h3p9xo5uGsb99LQGmKS",
      "include_colab_link": true
    },
    "kernelspec": {
      "name": "python3",
      "display_name": "Python 3"
    },
    "language_info": {
      "name": "python"
    }
  },
  "cells": [
    {
      "cell_type": "markdown",
      "metadata": {
        "id": "view-in-github",
        "colab_type": "text"
      },
      "source": [
        "<a href=\"https://colab.research.google.com/github/Malikumair786/Machine_Learning/blob/main/Mathematics_In_ML(Statistics).ipynb\" target=\"_parent\"><img src=\"https://colab.research.google.com/assets/colab-badge.svg\" alt=\"Open In Colab\"/></a>"
      ]
    },
    {
      "cell_type": "markdown",
      "source": [
        "# Statistics"
      ],
      "metadata": {
        "id": "hVK0uc3m6Wly"
      }
    },
    {
      "cell_type": "markdown",
      "source": [
        "# intro"
      ],
      "metadata": {
        "id": "PaUQg1b36cfF"
      }
    },
    {
      "cell_type": "markdown",
      "source": [
        "Statistics is the science concerned with develping and studying methods for collecting, analysing, interpreting and presenting data."
      ],
      "metadata": {
        "id": "RP0nGpIy6fiJ"
      }
    },
    {
      "cell_type": "markdown",
      "source": [
        "Tool to understand our data better\n",
        "Statistical Measure:\n",
        "1. Range:\n",
        "2. Mean: (average)\n",
        "3. Standard Deviation:(How much the individual value varies from the mean value)\n",
        "4. correlation."
      ],
      "metadata": {
        "id": "yJHjKH_X6vlJ"
      }
    },
    {
      "cell_type": "markdown",
      "source": [
        "topics that we cover:\n",
        "1. Basics of statistics\n",
        "2. Types of statistics\n",
        "3. Population and Sample\n",
        "4. Central Tendency\n",
        "5. Percentile and Dispersion\n",
        "6. Statistics implementation with Python\n",
        "7. Range, Sample Variance and Standard Deviation\n",
        "8. Corelation And Causation\n",
        "9. Hypothesis Testing\n",
        "10. Statistics Implementation with Python"
      ],
      "metadata": {
        "id": "Ih82S7iq8dF7"
      }
    },
    {
      "cell_type": "markdown",
      "source": [
        "#Basics of Statistics and Types of data"
      ],
      "metadata": {
        "id": "YP_04pVy9Ml3"
      }
    },
    {
      "cell_type": "markdown",
      "source": [
        "Why We need Statistics: Statistics is a tool that helps us to extract information and knowledge from data"
      ],
      "metadata": {
        "id": "1gaw7tjw9df2"
      }
    },
    {
      "cell_type": "markdown",
      "source": [
        "Types of data in statistics:\n",
        "1. Categorical\n",
        "  1. Nominal data(Nominal data is a classification of categorical variables, that does not provide any quantitative value)\n",
        "  2. Ordinal data(The type of data in which the values follows a natural order)\n",
        "2. Numerical\n",
        "  1. Discrete Data(Discrete data are the data that can only take certain values)\n",
        "  2. Continuous data(Continuous data can have almost any numerical value. Unlike discrete data, they can have clinical value.)"
      ],
      "metadata": {
        "id": "2I7Mp0iGE_2d"
      }
    },
    {
      "cell_type": "markdown",
      "source": [
        "# Types of statistics"
      ],
      "metadata": {
        "id": "HI00HmxWJhVi"
      }
    },
    {
      "cell_type": "markdown",
      "source": [
        "1. Descriptive statistics (Giving some description or summarization to the data,(Measure of central Tendency -->mean, median, mode) (Measure of variability-->range, standard deviation, variance))\n",
        "  1. Describe the data\n",
        "  2. Data Analysis\n",
        "2. Inferential Statistics (Finding some inferences from the data and some insights from the data i.e. correlation  . Population --> Sample)\n",
        "  1. Get inferences about the data\n",
        "  2. Data Science"
      ],
      "metadata": {
        "id": "rTvwnHfbJl0-"
      }
    },
    {
      "cell_type": "markdown",
      "source": [
        "# **Types of statistical Studies**"
      ],
      "metadata": {
        "id": "Flkl1SnKXSF6"
      }
    },
    {
      "cell_type": "markdown",
      "source": [
        "1. Sample study (The study which is carried out on a sample which represent the total population) --> Used when the population can be very huge\n",
        "2. Observational study (The study in which we simply collect and analyuze data. We won;t inject any changes, we just observe the correlation in the data)\n",
        "3. Experimental Study (The study in which conditions are controlled and manipulated by the experimenter)"
      ],
      "metadata": {
        "id": "YWkHELm_XX2a"
      }
    },
    {
      "cell_type": "markdown",
      "source": [
        "# **Population and sample**"
      ],
      "metadata": {
        "id": "hct-2rKZb1K8"
      }
    },
    {
      "cell_type": "markdown",
      "source": [
        "Sample Study: Carried out on a sample(chosen from population), which represents the total population(entire data set)\n",
        "Techniques that we can use to derive a sample from the population:\n",
        "1. Simple Random sampling (sample randomly picked from a larger population. So all the datapoints have equal probability to picked as a sample data)\n",
        "2. Systematic Sampling (The samples will be chosen in a systematic way and can be picked from the population at a regular interval e.g. Selecting every 10th members from a population of 10,000.) --> use in homogenious type of data.\n",
        "3. Stratified Random sampling (Population is subdevided into smaller groups called Strata. Samples are obtained randomly from all these Strata)\n",
        "4. Cluster Sampling (It is carried out on population that has inherent groups. This population is subdevided into cluster and then randomly clusters are taken as sample)\n",
        "\n",
        "1.  Probability sampling Technique: The tecnique in which All the members of the population have an equal probability to be selected as a sample. Data sre chosen randmoly\n",
        "2. Probability sampling Technique: The tecnique in which All the members of the population does not have an equal probability to be selected as a sample. data are not chosen randomly."
      ],
      "metadata": {
        "id": "ytWV-eKbb5ZB"
      }
    },
    {
      "cell_type": "markdown",
      "source": [
        "# **Central Tendencies**"
      ],
      "metadata": {
        "id": "uIdEp6H-pCSu"
      }
    },
    {
      "cell_type": "markdown",
      "source": [
        "A value which represent the central point or typical value of a dataset.It is a value that summarize the data.\n",
        "1. Mean (Averaige) --> in case of outlies in our data, we cannot use the mean bcz our mean value will be affected drastically due to only one value out of the scope(outliers)\n",
        "2. Median (when we list the numbers from smallest to largest in the proper order, then median is the middle value in th elist of those number. In case of even no of value, the two middle value add and then divide by 2.)\n",
        "3. Mode (The value that occur ms=ost often, that repeated so many times in the list.)\n",
        "**Central Tendencies in Data Preprocessing:**\n",
        "Handling the missing value in the dataset.\n",
        "1. where to replace the missing value with mean: If the data is uniformly dostributed.\n",
        "2. Where to replace missing value with mode: If the data is skewed. If there is more no of data in one side.\n",
        "3. Where to replace missing value with mode: If the data is skewed."
      ],
      "metadata": {
        "id": "NqcbhiGspMOc"
      }
    },
    {
      "cell_type": "markdown",
      "source": [
        "# **Measure of Variability**\n",
        "1. Range\n",
        "2. Variance\n",
        "3. Standard Deviation"
      ],
      "metadata": {
        "id": "kjf5sS2guIxX"
      }
    },
    {
      "cell_type": "markdown",
      "source": [
        "**Range:** The difference between the larger value and the smaller value. Range = Max Value - min Value\n",
        "**Variance:** How far each number in the set is from the mean and therefore from every other number in the dataset.\n",
        "\n",
        "**Standard Deviation:** Square root of variance. Ot looks at how spread out a group of numbers is from the mean."
      ],
      "metadata": {
        "id": "W2ocgXbouTUO"
      }
    },
    {
      "cell_type": "markdown",
      "source": [
        "#**bold text Percentiles and quantiles**"
      ],
      "metadata": {
        "id": "NtIQVYeguAeD"
      }
    },
    {
      "cell_type": "markdown",
      "source": [
        "**Percentile :** It is a value on a scale that indicate the percent of a distribution that is equal to orb below it. How many values are below to a particular data points.\n",
        "**Quantiles: **It is a value that tells us how many values in a dataset are above or below a certain limit. It divides the members of the dataset into equally sized subgroups. It splits the data into eqiually size subgroups."
      ],
      "metadata": {
        "id": "O5pSM6Jf3Qyp"
      }
    },
    {
      "cell_type": "markdown",
      "source": [
        "# **Correlation and Causation**"
      ],
      "metadata": {
        "id": "pCzzkres5ViI"
      }
    },
    {
      "cell_type": "markdown",
      "source": [
        "**Correlation:** Example: which factor affect (increase or decrease) the eprice of the house.\n",
        "\"The relationship between the features in a dataset.\"\n",
        "\"Correlation is a measure that determines the extent to which two variables are relateed to each other in dataset. But it does not mean that one event is the cause of another event.\"\n",
        "**Types of correlation:**\n",
        "1. Positive correlation: Two variables are directly related to each other. Means that if one value increases the other also becoe increases and vice versa.\n",
        "2. Negative Correlation:\n",
        " When one value increases, the other become decreases. (inversely proportional)\n",
        " correlation = House_price_datafraem.corr()"
      ],
      "metadata": {
        "id": "rLLXZokz5csW"
      }
    },
    {
      "cell_type": "markdown",
      "source": [
        "**Causation:** One event casues another event to occur. Thus, there is a cause and effect relationship between the two variables in a dataset."
      ],
      "metadata": {
        "id": "xyZbSxnQ7jML"
      }
    },
    {
      "cell_type": "markdown",
      "source": [
        "# **Hypothesis testing**"
      ],
      "metadata": {
        "id": "fz1JAgPx97Xy"
      }
    },
    {
      "cell_type": "markdown",
      "source": [
        "\"The assumption that is made based on the observation of an experiment\"\n",
        "\n",
        "Types:\n",
        "1. Null Hypothesis (Commonly accepted fact)\n",
        "2. Alternative Hypothesis (Opposite to null hypothesis and it challenges the null hypothesis.)\n",
        "\n",
        "We carry out the hypothesis testing to find where null hypothesis is true or hypothesis hypothesis is true.\n",
        "We need to do this testing to validate our research."
      ],
      "metadata": {
        "id": "Aj7-aw689_vX"
      }
    },
    {
      "cell_type": "markdown",
      "source": [
        "# **Probability**\n"
      ],
      "metadata": {
        "id": "JZSlapiHA0Ms"
      }
    },
    {
      "cell_type": "markdown",
      "source": [
        "\"A bracnch of mathematics that deals with the likelihood of a given event to occur.\"\n",
        "\n",
        "Probability in Machine Learning.\n",
        "Loss Function: The difference between the predicted value and the original value and then square and divided by the total number of value.\n",
        "1. Basics of probability\n",
        "2. Random Variables\n",
        "3. Probability Distributions\n",
        "4. Maximum likelihood\n",
        "5. Bayes Theorem\n",
        "6. Information theory\n",
        "7. Cross Entropy\n",
        "8. Information Gain"
      ],
      "metadata": {
        "id": "36TfwM6LBHu2"
      }
    },
    {
      "cell_type": "markdown",
      "source": [
        "**Basics of Probability**\n",
        "\n",
        "The Value of probability lies between 0 and 1.\n",
        "probability of an evenmt to occur = Number of ways an event can occur/total number of outcomes\n",
        "\n",
        "\n"
      ],
      "metadata": {
        "id": "EfH-FWPgDbg4"
      }
    },
    {
      "cell_type": "markdown",
      "source": [
        "**Random Variables:** \n",
        "\n",
        "A numerical description of the outcomes of random events\n",
        "\n",
        "In other words, a random variables maps the outcomes of random events to numerical values. \n",
        "Types:\n",
        "\n",
        "1. Discrete (take distinct values, in case of coin toss, it has only two discrete or distinct value.)\n",
        "Continpous Random Variable: It can take any value in a given range. \n",
        "example: Weight of a random person in a class.\n"
      ],
      "metadata": {
        "id": "m0UZ45QnMVZX"
      }
    },
    {
      "cell_type": "markdown",
      "source": [
        "**Probability distribution for random variables:** \n"
      ],
      "metadata": {
        "id": "FrMXZ0LfPQsT"
      }
    },
    {
      "cell_type": "markdown",
      "source": [
        "\"How the probabilities are distributed over the value of the random variable.\"\n",
        "probability distribution are also called discrete probability distributions."
      ],
      "metadata": {
        "id": "H7BzUa-ZPcXz"
      }
    },
    {
      "cell_type": "markdown",
      "source": [
        "**Normal Distribution and Skewness:**\n",
        "\n",
        "\"**Normal Distribtion**: An arrangement of a data set in which most of the data points lie in the middle of the range and the rest taper off systematically towards either extreme.\" \n",
        "Normal Distribution can also be called as Gausian Distribution.\n",
        "and also called bell shaped curve.\n",
        "\n",
        "**Skewness:** A data is considered skewed when the distribution curve appears distorted or skewed either to the left or to the right, in a statistical distribution.\n",
        "\n",
        "Mean , Median and mode are same in normal distribution but different in negatively skewed and positively skewed."
      ],
      "metadata": {
        "id": "lrXpa5wmSIh1"
      }
    },
    {
      "cell_type": "markdown",
      "source": [
        "**Poisson Distribution:**\n",
        "\n",
        "\"It is probability distribution that measures how many times an event is likely to occur within a specified period of time.\"\n",
        "\n",
        "It is used to understand independent eventss that occur at a constant rate within a given interval of time."
      ],
      "metadata": {
        "id": "a7fBKANTVE6f"
      }
    }
  ]
}