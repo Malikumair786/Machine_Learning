{
  "nbformat": 4,
  "nbformat_minor": 0,
  "metadata": {
    "colab": {
      "name": "Building Linear Regression.ipynb",
      "provenance": [],
      "collapsed_sections": [
        "YcTLee85YG7Q",
        "YtzdJ64Dnm1Q",
        "326D2uGesIaZ",
        "zyydxKSP2x2x",
        "87dzJb43GGzH"
      ],
      "authorship_tag": "ABX9TyOv53sdKv0i3ik5AXoj1wk/",
      "include_colab_link": true
    },
    "kernelspec": {
      "name": "python3",
      "display_name": "Python 3"
    },
    "language_info": {
      "name": "python"
    }
  },
  "cells": [
    {
      "cell_type": "markdown",
      "metadata": {
        "id": "view-in-github",
        "colab_type": "text"
      },
      "source": [
        "<a href=\"https://colab.research.google.com/github/Malikumair786/Machine_Learning/blob/main/Building_Linear_Regression.ipynb\" target=\"_parent\"><img src=\"https://colab.research.google.com/assets/colab-badge.svg\" alt=\"Open In Colab\"/></a>"
      ]
    },
    {
      "cell_type": "markdown",
      "source": [
        "# Linear Regression"
      ],
      "metadata": {
        "id": "YcTLee85YG7Q"
      }
    },
    {
      "cell_type": "markdown",
      "source": [
        "\"Linear regression is basically a straight line whise equation is 'Y = mX+c' where we have to find the value of m and c and put inthe equation to find the actual equation of the straight line.\"\n",
        "\n",
        "For Example: \n",
        "\n",
        "Salary is depend on the Years of experience of a person. "
      ],
      "metadata": {
        "id": "IN37RO4tYNE6"
      }
    },
    {
      "cell_type": "markdown",
      "source": [
        "**What if there are more than 2 variables?**\n",
        "Answer:\n",
        "\n",
        "Multiple Linear Regression:\n",
        "\"Multiple Linear regressio is a model for predicting the value of one dependent variable based on two or more independent variable.\"\n",
        "\n",
        "For Example: \n",
        "\n",
        "Salary of a person is not only depend on the years of experience of a  person, but also depend on the qualification of a person.\n",
        "\n",
        "So we will use a 3-dimensional model for this type of problem.\n",
        "\n",
        "Formula:\n",
        "\n",
        "Y = b0+b1x1+b2x2+b3x3+....+bnxn."
      ],
      "metadata": {
        "id": "Pp34LC1tkrR-"
      }
    },
    {
      "cell_type": "markdown",
      "source": [
        "Advantages of linear Regression:\n",
        "1. Very Simple to implement\n",
        "2. Performs well on data with Linear relationship\n",
        "\n",
        "\n",
        "Disadvantages of Linear Regression:\n",
        "1. Not Suitable for data having non-linear relationship. for example, Linear regression is not for sin curve.\n",
        "2. Undefitting issues\n",
        "3. Sensitive Outliers"
      ],
      "metadata": {
        "id": "irQgBMxHmCwJ"
      }
    },
    {
      "cell_type": "markdown",
      "source": [
        "# Linear Regression-Methematical Understanding\n"
      ],
      "metadata": {
        "id": "YtzdJ64Dnm1Q"
      }
    },
    {
      "cell_type": "markdown",
      "source": [
        "How Does Linear Regression model find the best fit?\n",
        "\n",
        "Loss Function: \"Loss function measure how far an estimated value  is from its true value.\"\n",
        "\n",
        "Loss function is also called mean Square Error Formula\n",
        "\n",
        "It is helpful to determine which model performs better and which parameters are better.\n",
        "\n",
        "Loss function should be as low as possible, which means high accuracy and best fit. "
      ],
      "metadata": {
        "id": "xpW-Z7ULnslZ"
      }
    },
    {
      "cell_type": "markdown",
      "source": [
        "#Gradient Descent For Linear Regression\n"
      ],
      "metadata": {
        "id": "326D2uGesIaZ"
      }
    },
    {
      "cell_type": "markdown",
      "source": [
        "**Model Optimization:**\n",
        "Optimization refers to determining best parameters for a model, such that a loss function of the model decreases, as a resultof hich the model can predict more accurately.\n",
        "\n",
        "Global minimum:\n",
        "\"It is a point in the curve where we have minimum loss function\"\n",
        "\n",
        "**Gradient Descent:**\n",
        "\n",
        "It is an optimization algorithm used for minimizing the loss function in various machine learning algorithm. It is used for updating theparameter for the learning model.\n",
        "\n",
        "m = m - LDm\n",
        "c = c - LDc\n",
        "\n",
        "Dm = (-2/n)summition(xi(yi-yiprediction))\n",
        "Dc = (-2/n)summition(yi-y-prediction)\n"
      ],
      "metadata": {
        "id": "Cp_R0pEAsOs2"
      }
    },
    {
      "cell_type": "markdown",
      "source": [
        "Linear Regression:\n",
        "Y = wX+b\n",
        "\n",
        "Y = dependent Variables\n",
        "\n",
        "X = independent Variable\n",
        "\n",
        "w = weight\n",
        "\n",
        "b = bias\n",
        "\n",
        "\n",
        "Gradient Descent:\n",
        "\n",
        "w = w - L*dw\n",
        "\n",
        "b = b - L*db\n",
        "\n",
        "Learning Rate:\n",
        "Learning rate is a tuning parameter in an optimization algorithm that determines the step size at each iteration while moving towards the minimum of a loss function.\n",
        "We can denote the learning rate as L in the formulas of gradient descent."
      ],
      "metadata": {
        "id": "UrgPFacx160P"
      }
    },
    {
      "cell_type": "markdown",
      "source": [
        "# Building Linear Regression Model from Scratch"
      ],
      "metadata": {
        "id": "zyydxKSP2x2x"
      }
    },
    {
      "cell_type": "code",
      "source": [
        "#importing numpy linbrary\n",
        "import numpy as np\n",
        "import lin_reg_model"
      ],
      "metadata": {
        "id": "tUTPLCkwW_-z"
      },
      "execution_count": null,
      "outputs": []
    },
    {
      "cell_type": "markdown",
      "source": [
        "**linear Regression**"
      ],
      "metadata": {
        "id": "0FtCHrDO6WPY"
      }
    },
    {
      "cell_type": "markdown",
      "source": [
        "We can set the learning rate as 0.1 or 0.01 and so on, manually\n",
        "\n",
        "and \n",
        "\n",
        "We can set the no_of_iterations as 100 or 1000 or anything we want manually.\n",
        "becasue these two are the hyperparameter\n",
        "But we cannot set the value of weights and bias manually because they are the model parameter."
      ],
      "metadata": {
        "id": "pa8TjBTF8Z9R"
      }
    },
    {
      "cell_type": "markdown",
      "source": [
        "#implementing Linear Regression Model from Scratch\n"
      ],
      "metadata": {
        "id": "87dzJb43GGzH"
      }
    },
    {
      "cell_type": "markdown",
      "source": [
        "Workflow for the linear regression model\n",
        "1. set learning rate and number of iterations; Initite random weights and bias value\n",
        "2. Build Linear Regression Equation (Y = wX+b)\n",
        "3. Find the Y-pred value for given x value for the corresponding weights and bias\n",
        "4. check the loss function for these parameters value. (Difference between y_pred and y-true)\n",
        "5. Update the parameters value using Gradient Descent (New Weights and Bias Value)\n",
        "6. step 3,4,5 repeated since we get minimum loss function\n",
        "\n",
        "Finally we get the best mode (best weight and bias value) as it has minimum loss function.  "
      ],
      "metadata": {
        "id": "R-dl5PuQHPPE"
      }
    },
    {
      "cell_type": "markdown",
      "source": [
        "Using linear regression model for prediction"
      ],
      "metadata": {
        "id": "J5T6gYFPKDnq"
      }
    },
    {
      "cell_type": "code",
      "source": [
        "# importing the libraries\n",
        "import pandas as pd\n",
        "from sklearn.model_selection import train_test_split\n",
        "import matplotlib.pyplot as plt\n"
      ],
      "metadata": {
        "id": "SuVpEWYqGExf"
      },
      "execution_count": null,
      "outputs": []
    },
    {
      "cell_type": "markdown",
      "source": [
        "Data Pre-processing"
      ],
      "metadata": {
        "id": "gOQZL4bRK5vB"
      }
    },
    {
      "cell_type": "code",
      "source": [
        "#loading the data from cs file to a pandas Dataframe\n",
        "salary_data = pd.read_csv('/content/salary_data.csv')"
      ],
      "metadata": {
        "id": "gAgNZ0UkK0qd"
      },
      "execution_count": null,
      "outputs": []
    },
    {
      "cell_type": "code",
      "source": [
        "#first five column printing\n",
        "salary_data.head()"
      ],
      "metadata": {
        "colab": {
          "base_uri": "https://localhost:8080/",
          "height": 206
        },
        "id": "WjPn2YgILL6Q",
        "outputId": "bcdaf5c5-a60a-4fa5-d960-bac0056ae958"
      },
      "execution_count": null,
      "outputs": [
        {
          "output_type": "execute_result",
          "data": {
            "text/plain": [
              "   YearsExperience  Salary\n",
              "0              1.1   39343\n",
              "1              1.3   46205\n",
              "2              1.5   37731\n",
              "3              2.0   43525\n",
              "4              2.2   39891"
            ],
            "text/html": [
              "\n",
              "  <div id=\"df-7c0fd0f6-2898-4646-a86a-d7f05bea88d1\">\n",
              "    <div class=\"colab-df-container\">\n",
              "      <div>\n",
              "<style scoped>\n",
              "    .dataframe tbody tr th:only-of-type {\n",
              "        vertical-align: middle;\n",
              "    }\n",
              "\n",
              "    .dataframe tbody tr th {\n",
              "        vertical-align: top;\n",
              "    }\n",
              "\n",
              "    .dataframe thead th {\n",
              "        text-align: right;\n",
              "    }\n",
              "</style>\n",
              "<table border=\"1\" class=\"dataframe\">\n",
              "  <thead>\n",
              "    <tr style=\"text-align: right;\">\n",
              "      <th></th>\n",
              "      <th>YearsExperience</th>\n",
              "      <th>Salary</th>\n",
              "    </tr>\n",
              "  </thead>\n",
              "  <tbody>\n",
              "    <tr>\n",
              "      <th>0</th>\n",
              "      <td>1.1</td>\n",
              "      <td>39343</td>\n",
              "    </tr>\n",
              "    <tr>\n",
              "      <th>1</th>\n",
              "      <td>1.3</td>\n",
              "      <td>46205</td>\n",
              "    </tr>\n",
              "    <tr>\n",
              "      <th>2</th>\n",
              "      <td>1.5</td>\n",
              "      <td>37731</td>\n",
              "    </tr>\n",
              "    <tr>\n",
              "      <th>3</th>\n",
              "      <td>2.0</td>\n",
              "      <td>43525</td>\n",
              "    </tr>\n",
              "    <tr>\n",
              "      <th>4</th>\n",
              "      <td>2.2</td>\n",
              "      <td>39891</td>\n",
              "    </tr>\n",
              "  </tbody>\n",
              "</table>\n",
              "</div>\n",
              "      <button class=\"colab-df-convert\" onclick=\"convertToInteractive('df-7c0fd0f6-2898-4646-a86a-d7f05bea88d1')\"\n",
              "              title=\"Convert this dataframe to an interactive table.\"\n",
              "              style=\"display:none;\">\n",
              "        \n",
              "  <svg xmlns=\"http://www.w3.org/2000/svg\" height=\"24px\"viewBox=\"0 0 24 24\"\n",
              "       width=\"24px\">\n",
              "    <path d=\"M0 0h24v24H0V0z\" fill=\"none\"/>\n",
              "    <path d=\"M18.56 5.44l.94 2.06.94-2.06 2.06-.94-2.06-.94-.94-2.06-.94 2.06-2.06.94zm-11 1L8.5 8.5l.94-2.06 2.06-.94-2.06-.94L8.5 2.5l-.94 2.06-2.06.94zm10 10l.94 2.06.94-2.06 2.06-.94-2.06-.94-.94-2.06-.94 2.06-2.06.94z\"/><path d=\"M17.41 7.96l-1.37-1.37c-.4-.4-.92-.59-1.43-.59-.52 0-1.04.2-1.43.59L10.3 9.45l-7.72 7.72c-.78.78-.78 2.05 0 2.83L4 21.41c.39.39.9.59 1.41.59.51 0 1.02-.2 1.41-.59l7.78-7.78 2.81-2.81c.8-.78.8-2.07 0-2.86zM5.41 20L4 18.59l7.72-7.72 1.47 1.35L5.41 20z\"/>\n",
              "  </svg>\n",
              "      </button>\n",
              "      \n",
              "  <style>\n",
              "    .colab-df-container {\n",
              "      display:flex;\n",
              "      flex-wrap:wrap;\n",
              "      gap: 12px;\n",
              "    }\n",
              "\n",
              "    .colab-df-convert {\n",
              "      background-color: #E8F0FE;\n",
              "      border: none;\n",
              "      border-radius: 50%;\n",
              "      cursor: pointer;\n",
              "      display: none;\n",
              "      fill: #1967D2;\n",
              "      height: 32px;\n",
              "      padding: 0 0 0 0;\n",
              "      width: 32px;\n",
              "    }\n",
              "\n",
              "    .colab-df-convert:hover {\n",
              "      background-color: #E2EBFA;\n",
              "      box-shadow: 0px 1px 2px rgba(60, 64, 67, 0.3), 0px 1px 3px 1px rgba(60, 64, 67, 0.15);\n",
              "      fill: #174EA6;\n",
              "    }\n",
              "\n",
              "    [theme=dark] .colab-df-convert {\n",
              "      background-color: #3B4455;\n",
              "      fill: #D2E3FC;\n",
              "    }\n",
              "\n",
              "    [theme=dark] .colab-df-convert:hover {\n",
              "      background-color: #434B5C;\n",
              "      box-shadow: 0px 1px 3px 1px rgba(0, 0, 0, 0.15);\n",
              "      filter: drop-shadow(0px 1px 2px rgba(0, 0, 0, 0.3));\n",
              "      fill: #FFFFFF;\n",
              "    }\n",
              "  </style>\n",
              "\n",
              "      <script>\n",
              "        const buttonEl =\n",
              "          document.querySelector('#df-7c0fd0f6-2898-4646-a86a-d7f05bea88d1 button.colab-df-convert');\n",
              "        buttonEl.style.display =\n",
              "          google.colab.kernel.accessAllowed ? 'block' : 'none';\n",
              "\n",
              "        async function convertToInteractive(key) {\n",
              "          const element = document.querySelector('#df-7c0fd0f6-2898-4646-a86a-d7f05bea88d1');\n",
              "          const dataTable =\n",
              "            await google.colab.kernel.invokeFunction('convertToInteractive',\n",
              "                                                     [key], {});\n",
              "          if (!dataTable) return;\n",
              "\n",
              "          const docLinkHtml = 'Like what you see? Visit the ' +\n",
              "            '<a target=\"_blank\" href=https://colab.research.google.com/notebooks/data_table.ipynb>data table notebook</a>'\n",
              "            + ' to learn more about interactive tables.';\n",
              "          element.innerHTML = '';\n",
              "          dataTable['output_type'] = 'display_data';\n",
              "          await google.colab.output.renderOutput(dataTable, element);\n",
              "          const docLink = document.createElement('div');\n",
              "          docLink.innerHTML = docLinkHtml;\n",
              "          element.appendChild(docLink);\n",
              "        }\n",
              "      </script>\n",
              "    </div>\n",
              "  </div>\n",
              "  "
            ]
          },
          "metadata": {},
          "execution_count": 137
        }
      ]
    },
    {
      "cell_type": "code",
      "source": [
        "#last five column printing\n",
        "salary_data.tail()"
      ],
      "metadata": {
        "colab": {
          "base_uri": "https://localhost:8080/",
          "height": 206
        },
        "id": "6YF1cobLLT5O",
        "outputId": "cc8e9ad2-6561-43d3-8bcf-0fab3975453f"
      },
      "execution_count": null,
      "outputs": [
        {
          "output_type": "execute_result",
          "data": {
            "text/plain": [
              "    YearsExperience  Salary\n",
              "25              9.0  105582\n",
              "26              9.5  116969\n",
              "27              9.6  112635\n",
              "28             10.3  122391\n",
              "29             10.5  121872"
            ],
            "text/html": [
              "\n",
              "  <div id=\"df-05c488e3-7481-4bb4-b411-22045a192128\">\n",
              "    <div class=\"colab-df-container\">\n",
              "      <div>\n",
              "<style scoped>\n",
              "    .dataframe tbody tr th:only-of-type {\n",
              "        vertical-align: middle;\n",
              "    }\n",
              "\n",
              "    .dataframe tbody tr th {\n",
              "        vertical-align: top;\n",
              "    }\n",
              "\n",
              "    .dataframe thead th {\n",
              "        text-align: right;\n",
              "    }\n",
              "</style>\n",
              "<table border=\"1\" class=\"dataframe\">\n",
              "  <thead>\n",
              "    <tr style=\"text-align: right;\">\n",
              "      <th></th>\n",
              "      <th>YearsExperience</th>\n",
              "      <th>Salary</th>\n",
              "    </tr>\n",
              "  </thead>\n",
              "  <tbody>\n",
              "    <tr>\n",
              "      <th>25</th>\n",
              "      <td>9.0</td>\n",
              "      <td>105582</td>\n",
              "    </tr>\n",
              "    <tr>\n",
              "      <th>26</th>\n",
              "      <td>9.5</td>\n",
              "      <td>116969</td>\n",
              "    </tr>\n",
              "    <tr>\n",
              "      <th>27</th>\n",
              "      <td>9.6</td>\n",
              "      <td>112635</td>\n",
              "    </tr>\n",
              "    <tr>\n",
              "      <th>28</th>\n",
              "      <td>10.3</td>\n",
              "      <td>122391</td>\n",
              "    </tr>\n",
              "    <tr>\n",
              "      <th>29</th>\n",
              "      <td>10.5</td>\n",
              "      <td>121872</td>\n",
              "    </tr>\n",
              "  </tbody>\n",
              "</table>\n",
              "</div>\n",
              "      <button class=\"colab-df-convert\" onclick=\"convertToInteractive('df-05c488e3-7481-4bb4-b411-22045a192128')\"\n",
              "              title=\"Convert this dataframe to an interactive table.\"\n",
              "              style=\"display:none;\">\n",
              "        \n",
              "  <svg xmlns=\"http://www.w3.org/2000/svg\" height=\"24px\"viewBox=\"0 0 24 24\"\n",
              "       width=\"24px\">\n",
              "    <path d=\"M0 0h24v24H0V0z\" fill=\"none\"/>\n",
              "    <path d=\"M18.56 5.44l.94 2.06.94-2.06 2.06-.94-2.06-.94-.94-2.06-.94 2.06-2.06.94zm-11 1L8.5 8.5l.94-2.06 2.06-.94-2.06-.94L8.5 2.5l-.94 2.06-2.06.94zm10 10l.94 2.06.94-2.06 2.06-.94-2.06-.94-.94-2.06-.94 2.06-2.06.94z\"/><path d=\"M17.41 7.96l-1.37-1.37c-.4-.4-.92-.59-1.43-.59-.52 0-1.04.2-1.43.59L10.3 9.45l-7.72 7.72c-.78.78-.78 2.05 0 2.83L4 21.41c.39.39.9.59 1.41.59.51 0 1.02-.2 1.41-.59l7.78-7.78 2.81-2.81c.8-.78.8-2.07 0-2.86zM5.41 20L4 18.59l7.72-7.72 1.47 1.35L5.41 20z\"/>\n",
              "  </svg>\n",
              "      </button>\n",
              "      \n",
              "  <style>\n",
              "    .colab-df-container {\n",
              "      display:flex;\n",
              "      flex-wrap:wrap;\n",
              "      gap: 12px;\n",
              "    }\n",
              "\n",
              "    .colab-df-convert {\n",
              "      background-color: #E8F0FE;\n",
              "      border: none;\n",
              "      border-radius: 50%;\n",
              "      cursor: pointer;\n",
              "      display: none;\n",
              "      fill: #1967D2;\n",
              "      height: 32px;\n",
              "      padding: 0 0 0 0;\n",
              "      width: 32px;\n",
              "    }\n",
              "\n",
              "    .colab-df-convert:hover {\n",
              "      background-color: #E2EBFA;\n",
              "      box-shadow: 0px 1px 2px rgba(60, 64, 67, 0.3), 0px 1px 3px 1px rgba(60, 64, 67, 0.15);\n",
              "      fill: #174EA6;\n",
              "    }\n",
              "\n",
              "    [theme=dark] .colab-df-convert {\n",
              "      background-color: #3B4455;\n",
              "      fill: #D2E3FC;\n",
              "    }\n",
              "\n",
              "    [theme=dark] .colab-df-convert:hover {\n",
              "      background-color: #434B5C;\n",
              "      box-shadow: 0px 1px 3px 1px rgba(0, 0, 0, 0.15);\n",
              "      filter: drop-shadow(0px 1px 2px rgba(0, 0, 0, 0.3));\n",
              "      fill: #FFFFFF;\n",
              "    }\n",
              "  </style>\n",
              "\n",
              "      <script>\n",
              "        const buttonEl =\n",
              "          document.querySelector('#df-05c488e3-7481-4bb4-b411-22045a192128 button.colab-df-convert');\n",
              "        buttonEl.style.display =\n",
              "          google.colab.kernel.accessAllowed ? 'block' : 'none';\n",
              "\n",
              "        async function convertToInteractive(key) {\n",
              "          const element = document.querySelector('#df-05c488e3-7481-4bb4-b411-22045a192128');\n",
              "          const dataTable =\n",
              "            await google.colab.kernel.invokeFunction('convertToInteractive',\n",
              "                                                     [key], {});\n",
              "          if (!dataTable) return;\n",
              "\n",
              "          const docLinkHtml = 'Like what you see? Visit the ' +\n",
              "            '<a target=\"_blank\" href=https://colab.research.google.com/notebooks/data_table.ipynb>data table notebook</a>'\n",
              "            + ' to learn more about interactive tables.';\n",
              "          element.innerHTML = '';\n",
              "          dataTable['output_type'] = 'display_data';\n",
              "          await google.colab.output.renderOutput(dataTable, element);\n",
              "          const docLink = document.createElement('div');\n",
              "          docLink.innerHTML = docLinkHtml;\n",
              "          element.appendChild(docLink);\n",
              "        }\n",
              "      </script>\n",
              "    </div>\n",
              "  </div>\n",
              "  "
            ]
          },
          "metadata": {},
          "execution_count": 138
        }
      ]
    },
    {
      "cell_type": "code",
      "source": [
        "#print number of rows and column in dataframe\n",
        "salary_data.shape"
      ],
      "metadata": {
        "colab": {
          "base_uri": "https://localhost:8080/"
        },
        "id": "_qcHE8RlLbN5",
        "outputId": "29d95c68-9e6c-458a-b9f0-040680589a1e"
      },
      "execution_count": null,
      "outputs": [
        {
          "output_type": "execute_result",
          "data": {
            "text/plain": [
              "(30, 2)"
            ]
          },
          "metadata": {},
          "execution_count": 139
        }
      ]
    },
    {
      "cell_type": "code",
      "source": [
        "#check that there is any missing value in dataset\n",
        "salary_data.isnull().sum()"
      ],
      "metadata": {
        "colab": {
          "base_uri": "https://localhost:8080/"
        },
        "id": "DCD3y-cZLnCl",
        "outputId": "05e3686a-6d8c-43ed-fb98-1c3fefed6399"
      },
      "execution_count": null,
      "outputs": [
        {
          "output_type": "execute_result",
          "data": {
            "text/plain": [
              "YearsExperience    0\n",
              "Salary             0\n",
              "dtype: int64"
            ]
          },
          "metadata": {},
          "execution_count": 140
        }
      ]
    },
    {
      "cell_type": "code",
      "source": [
        "#Now we have to seperate the feature(x,input) and target(y,output).\n",
        "\n",
        "X = X = salary_data.iloc[:,:-1].values\n",
        "#X = salary_data.drop(columns = 'Salary', axis = 1)    #same as X = salary_data.drop[:,:-1]\n",
        "Y = salary_data.iloc[:,1].values                      #same as Y = salary_data['Salary']"
      ],
      "metadata": {
        "id": "KdbG3VIRMG34"
      },
      "execution_count": null,
      "outputs": []
    },
    {
      "cell_type": "code",
      "source": [
        "print(X)"
      ],
      "metadata": {
        "colab": {
          "base_uri": "https://localhost:8080/"
        },
        "id": "FeeBP8ipTADp",
        "outputId": "2a964a8b-f581-4306-a8d6-1c69933f9088"
      },
      "execution_count": null,
      "outputs": [
        {
          "output_type": "stream",
          "name": "stdout",
          "text": [
            "[[ 1.1]\n",
            " [ 1.3]\n",
            " [ 1.5]\n",
            " [ 2. ]\n",
            " [ 2.2]\n",
            " [ 2.9]\n",
            " [ 3. ]\n",
            " [ 3.2]\n",
            " [ 3.2]\n",
            " [ 3.7]\n",
            " [ 3.9]\n",
            " [ 4. ]\n",
            " [ 4. ]\n",
            " [ 4.1]\n",
            " [ 4.5]\n",
            " [ 4.9]\n",
            " [ 5.1]\n",
            " [ 5.3]\n",
            " [ 5.9]\n",
            " [ 6. ]\n",
            " [ 6.8]\n",
            " [ 7.1]\n",
            " [ 7.9]\n",
            " [ 8.2]\n",
            " [ 8.7]\n",
            " [ 9. ]\n",
            " [ 9.5]\n",
            " [ 9.6]\n",
            " [10.3]\n",
            " [10.5]]\n"
          ]
        }
      ]
    },
    {
      "cell_type": "code",
      "source": [
        "print(Y)"
      ],
      "metadata": {
        "colab": {
          "base_uri": "https://localhost:8080/"
        },
        "id": "CO4LEMabT1TP",
        "outputId": "fa8161ea-e6da-49a4-ad3c-57effe5ec91d"
      },
      "execution_count": null,
      "outputs": [
        {
          "output_type": "stream",
          "name": "stdout",
          "text": [
            "[ 39343  46205  37731  43525  39891  56642  60150  54445  64445  57189\n",
            "  63218  55794  56957  57081  61111  67938  66029  83088  81363  93940\n",
            "  91738  98273 101302 113812 109431 105582 116969 112635 122391 121872]\n"
          ]
        }
      ]
    },
    {
      "cell_type": "markdown",
      "source": [
        "Now splitting the dataset into training and test data\n"
      ],
      "metadata": {
        "id": "fnrjRx0mURje"
      }
    },
    {
      "cell_type": "code",
      "source": [
        "X_train,X_test,Y_train,Y_test = train_test_split(X,Y,test_size = 0.33,random_state = 2)"
      ],
      "metadata": {
        "id": "LJqokf-YUKOg"
      },
      "execution_count": null,
      "outputs": []
    },
    {
      "cell_type": "markdown",
      "source": [
        "Training Linear Regression model"
      ],
      "metadata": {
        "id": "E3DT_Li-Vo2w"
      }
    },
    {
      "cell_type": "code",
      "source": [
        "model = lin_reg_model.Linear_Regression(learning_rate = 0.02 , no_of_iterations = 1000)"
      ],
      "metadata": {
        "id": "RGoGF9rrVQP2"
      },
      "execution_count": null,
      "outputs": []
    },
    {
      "cell_type": "code",
      "source": [
        "model.fit(X_train,Y_train)"
      ],
      "metadata": {
        "id": "pZzKlqcUWXId"
      },
      "execution_count": null,
      "outputs": []
    },
    {
      "cell_type": "code",
      "source": [
        "#printing the parameter values (weights and bias)\n",
        "print(\"Weight = \",model.w[0])\n",
        "print(\"Bias = \",model.b)"
      ],
      "metadata": {
        "colab": {
          "base_uri": "https://localhost:8080/"
        },
        "id": "9GmBlF2XWwGg",
        "outputId": "5702658b-421d-4c9d-a9d8-83d8bf85d04f"
      },
      "execution_count": null,
      "outputs": [
        {
          "output_type": "stream",
          "name": "stdout",
          "text": [
            "Weight =  9514.400999035135\n",
            "Bias =  23697.406507136307\n"
          ]
        }
      ]
    },
    {
      "cell_type": "markdown",
      "source": [
        "Y = 9514(X)+23697\n",
        "\n",
        "salary = 9514(Experience) + 23697"
      ],
      "metadata": {
        "id": "T_DmzpdBa8N-"
      }
    },
    {
      "cell_type": "markdown",
      "source": [
        "predict the salary for test data"
      ],
      "metadata": {
        "id": "wKO2sp6BbZQl"
      }
    },
    {
      "cell_type": "code",
      "source": [
        "test_data_prediction = model.predict(X_test)"
      ],
      "metadata": {
        "id": "HZ4QelWmaGz6"
      },
      "execution_count": null,
      "outputs": []
    },
    {
      "cell_type": "code",
      "source": [
        "print(test_data_prediction)"
      ],
      "metadata": {
        "colab": {
          "base_uri": "https://localhost:8080/"
        },
        "id": "4-Cng5zpbypt",
        "outputId": "a5394555-92a5-4a36-ac74-a3826762fe57"
      },
      "execution_count": null,
      "outputs": [
        {
          "output_type": "stream",
          "name": "stdout",
          "text": [
            "[ 36066.12780588  34163.24760607  66512.21100279  58900.69020357\n",
            "  91249.65360029  80783.81250135 101715.49469922  52240.60950424\n",
            "  42726.20850521  88395.33330058]\n"
          ]
        }
      ]
    },
    {
      "cell_type": "markdown",
      "source": [
        "Visualizing the predicted values & actual values"
      ],
      "metadata": {
        "id": "PugZ6mmLb28N"
      }
    },
    {
      "cell_type": "code",
      "source": [
        "plt.scatter(X_test, Y_test,color = 'red')\n",
        "plt.plot(X_test,test_data_prediction, color = 'blue')\n",
        "plt.xlabel('Work Experience')\n",
        "plt.ylabel('Salary')\n",
        "plt.title('Salary Vs Experience')\n",
        "plt.show()"
      ],
      "metadata": {
        "colab": {
          "base_uri": "https://localhost:8080/",
          "height": 295
        },
        "id": "a7j0fojQb1hu",
        "outputId": "05c1c5d3-1f2f-4359-8723-ac303b9ed5e9"
      },
      "execution_count": null,
      "outputs": [
        {
          "output_type": "display_data",
          "data": {
            "text/plain": [
              "<Figure size 432x288 with 1 Axes>"
            ],
            "image/png": "[encoded data removed]"
          },
          "metadata": {
            "needs_background": "light"
          }
        }
      ]
    }
  ]
}