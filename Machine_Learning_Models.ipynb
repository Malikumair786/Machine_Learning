{
  "nbformat": 4,
  "nbformat_minor": 0,
  "metadata": {
    "colab": {
      "name": "Machine Learning Models.ipynb",
      "provenance": [],
      "collapsed_sections": [
        "1vqFcuNBdbHj",
        "PoFfLoErfVCy",
        "1Hw1R4bAiT1J",
        "HpN3NKeEkap1",
        "nzHYmhdFqwRy",
        "BKbNajwM3dCY",
        "IWW8-Gzi6IQk",
        "4ZTxyowbBo0W",
        "tGgj1aK-LpFA",
        "DNxzWoM7SUoX"
      ],
      "authorship_tag": "ABX9TyNpGWa3aU7KZ3KMUTpAqUY0",
      "include_colab_link": true
    },
    "kernelspec": {
      "name": "python3",
      "display_name": "Python 3"
    },
    "language_info": {
      "name": "python"
    }
  },
  "cells": [
    {
      "cell_type": "markdown",
      "metadata": {
        "id": "view-in-github",
        "colab_type": "text"
      },
      "source": [
        "<a href=\"https://colab.research.google.com/github/Malikumair786/Machine_Learning/blob/main/Machine_Learning_Models.ipynb\" target=\"_parent\"><img src=\"https://colab.research.google.com/assets/colab-badge.svg\" alt=\"Open In Colab\"/></a>"
      ]
    },
    {
      "cell_type": "markdown",
      "source": [
        "# **Machine Learning Model**"
      ],
      "metadata": {
        "id": "1vqFcuNBdbHj"
      }
    },
    {
      "cell_type": "markdown",
      "source": [
        "Fitting the machine learning model to the data points is called machine learning model training.\n",
        "Basically**,machine learning model tries to find the relationship between the feature and the target**(input and output) by finding the equation of the slope by putting the value of m and c in Y=mX+c and then find any output by cosidering this euation."
      ],
      "metadata": {
        "id": "56BqrO6IKTgu"
      }
    },
    {
      "cell_type": "markdown",
      "source": [
        "**The equation We have discuss above is for straight line.**\n",
        "\n",
        "If the model is polynomial, or any other, we have to find the relationship by using some other equation.\n",
        "Some other models:\n",
        "1. Logistic regression (Sigmoid shape)\n",
        "2. Support Vector Machine\n",
        "3. K-Means Clustering\n",
        "A machine learning model is a function that tries to find the relationship between the feature and the terget.\n",
        "It tries to find the pattern in the data, understand the data and make trains the data. Based in this learning, a machine learning model makes predictions and recognize patterns.\n"
      ],
      "metadata": {
        "id": "tMK2YX3HdhZh"
      }
    },
    {
      "cell_type": "markdown",
      "source": [
        "# Supervised Machine Learning Model\n",
        "In supervised Learning, the machine learning algorithm learns from labelled data.\n",
        "\n",
        "labelled Data:\n",
        "\n",
        "We label all the images of apple as apple and also all the image of mango should be labelled as mango. \n",
        "\n",
        "Types of Supervised Learning:\n",
        "1. Classification:\n",
        "\n",
        "Classification is about predicting the class or discrete value. e.g, Male or female, True or false etc.\n",
        "\n",
        "classification algorithm:\n",
        "1. Logistic Regression\n",
        "2. Cupport vector machine classifier\n",
        "3. Decision Tree\n",
        "4. K-nearest neighbors\n",
        "5. Random Forest\n",
        "6. Naive Bayes Classifier\n",
        "\n",
        "\n",
        "2. Regression: \n",
        "\n",
        "Regression is about predictinf a quantity or continous values. e.g. Salary, age, Price etc.\n",
        "1. Linear Regression\n",
        "2. Lasso regression\n",
        "3. Polynomial Regression\n",
        "4. Support Vector Machine Regressor\n",
        "5. Random forest Regressor\n",
        "6. Bayesian Linear Regressor "
      ],
      "metadata": {
        "id": "PoFfLoErfVCy"
      }
    },
    {
      "cell_type": "markdown",
      "source": [
        "# Unsupervised Learning:\n",
        "In Unsupervised learning, the machine learning algorithm learn from unlabelled data.\n",
        "1. Clustering:\n",
        "\n",
        "It is an unsupervised learning tasks, which involves grouping the similar data points.\n",
        "\n",
        "2. Association\n",
        "\n",
        "It is an unsupervised learning tasks that is used to find importtant relationship between data points.\n",
        "e.g. Bread is associated with milk.\n",
        "\n",
        "Unsupervising learning models:\n",
        "1. K-Means clustering\n",
        "2. Hierarchical Clustering\n",
        "3. Preiciple Component Analysis (PCA)\n",
        "4. Apriori\n",
        "5. Eclat"
      ],
      "metadata": {
        "id": "1Hw1R4bAiT1J"
      }
    },
    {
      "cell_type": "markdown",
      "source": [
        "# Model Selection:\n",
        "The process of choosing the best suited model for a particular problem. Selecting a model depends on various factors such as the dataset, task, nature of the model, etc."
      ],
      "metadata": {
        "id": "HpN3NKeEkap1"
      }
    },
    {
      "cell_type": "markdown",
      "source": [
        "**How to chose the right machine learning model:**\n",
        "Models can be selected based on:\n",
        "1. Types of data available\n",
        "  1. Images and videos - (CNN- Convolutional Neural Networks.)\n",
        "  **We choose this model in our project for face attendance module.**\n",
        "  2. Text data or speech data (RNN-Recurrent Neural Network)\n",
        "  3. Numerical Data-(SVM, Logistic regression, Decision tree, etc.)\n",
        "2. Based in the task we need to carry out: \n",
        "  1. classification Tasks- (SVM, Logistic Regression, Decision Tree, etc.)\n",
        "  2. Regression Tasks - (Linear Regression, Random forest, Polynomial Regression)\n",
        "  \n",
        "  Note: SVM is used for both the classification and regression as well.\n",
        "  3. Clustering Tasks - (K-means Clustering, Hierarchical Clustering)\n",
        "\n",
        "**Notes:**\n",
        "\n",
        "When the dataset is very small, and their are not outliers in the data, then support vactor machine cannot work well and also if the dataset is too large, then the support vctor machine does not work well.\n",
        "\n"
      ],
      "metadata": {
        "id": "6UAN6FO-kkYL"
      }
    },
    {
      "cell_type": "markdown",
      "source": [
        "Cross Validation:\n",
        "It iterate mutiple times.\n",
        "\n",
        "e.g.\n",
        "The entire datais divided into five groups and first four group are cosider as the training data and the last group is consider as the test data.\n",
        "\n",
        "The machine learning model trains on the training data and validated in the test data."
      ],
      "metadata": {
        "id": "Nmwa-2GXoNUf"
      }
    },
    {
      "cell_type": "markdown",
      "source": [
        "# Overfitting in Machine Learning:\n",
        "\"Overfitting refers to the model that models the training data too well. Overfitting happens, when a model learns the detail and noise in the training dataset to the extantthat it negatively impact the performance of the model.\"\n"
      ],
      "metadata": {
        "id": "nzHYmhdFqwRy"
      }
    },
    {
      "cell_type": "markdown",
      "source": [
        "**Sign that the model has overfitted**\n",
        "High training data accuracy and very low test data accuracy.\n",
        "\n",
        "If the training data accuracy is 95% and test data accuracy is 30 to 40%, then we have to say that the model is overfitted.\n",
        "\n",
        "Casues of Overfitting:\n",
        "1. Less data\n",
        "2. Increased complexity of the model\n",
        "3. More number of layers in the Neural Networks then there is a high chance, that our model will overfit.\n",
        "\n",
        "Preventing Overfitting by:\n",
        "1. Using more data\n",
        "2. Reduce the number of layers in the neural network\n",
        "3. Early stopping (We iterate the data multiple times)\n",
        "4. Bias- Variance Tradeoff (use to find the optimum model for a dataset)\n",
        "5. Use Dropouts(It is used in Neural network, few neurons will be droped out randomly from a neural network)"
      ],
      "metadata": {
        "id": "ptUFH9oLskCx"
      }
    },
    {
      "cell_type": "markdown",
      "source": [
        "# **Underfitting:**\n",
        "\"Underfitting happens when the model does not enough from the data, Inderfitting occur when a machine learning model cannot capture the underlying trend of the data\""
      ],
      "metadata": {
        "id": "BKbNajwM3dCY"
      }
    },
    {
      "cell_type": "markdown",
      "source": [
        "**Sign that the model has underfitted:**\n",
        "Vary low training data accuracy.\n",
        "When the model fails to find the trend present in the dataset and it cannot fit all the data points in a proper shape that is curve in case of parabola.\n",
        "**Causes for Underfitting:**\n",
        "1. Choosing a wrong model\n",
        "2. less complexity of the model\n",
        "3. less variance but high bias\n",
        "\n",
        "**Prevent Underfitting by:**\n",
        "1. choosing the correct model appropriate for the problem\n",
        "2. Increasing the complexity of the model\n",
        "3. More no of parameters to the model\n",
        "4. Bias-variance Tradeoff"
      ],
      "metadata": {
        "id": "G-Eqa34R4R08"
      }
    },
    {
      "cell_type": "markdown",
      "source": [
        "#Bias-Variance Tradeoff:\n",
        "Bias:\n",
        "\n",
        "\"Bias is the difference between the average prediction of our model and the correct value which we are trying to predict.\"\n",
        "\n",
        "Variance: \n",
        "\n",
        "\"Variance is the amount that the estimate of the target fuction will change if different training was used.\"\n",
        "\n",
        "When we are dealing with underfitting:\n",
        "High Bias, less variance\n",
        "\n",
        "When we deal with overfitting:\n",
        "\n",
        "Low bias,High Variance\n"
      ],
      "metadata": {
        "id": "IWW8-Gzi6IQk"
      }
    },
    {
      "cell_type": "markdown",
      "source": [
        "Good Model:\n",
        "A Goodel model is something that does not overfit and also does not underfit. We call that good model as an optimized model.\n",
        "An optimized model is acheived when our model complexity does not bocome too les or too high.It is in the middle situation."
      ],
      "metadata": {
        "id": "nbGHsJeS90zX"
      }
    },
    {
      "cell_type": "markdown",
      "source": [
        "**Techniques to have better Bias-Variance Tradeoff:**\n",
        "1. Good Model Selection\n",
        "2. Regularization technique\n",
        "3. Dimensionality Reduction (Having high number of dimension will create a more complex model) different tenchnique include Priciple Component Analysis in order to find that which feature are more importatn for us.\n",
        "4. Ensemble Methods\n"
      ],
      "metadata": {
        "id": "YykTAqSa-xF3"
      }
    },
    {
      "cell_type": "markdown",
      "source": [
        "#**Loss Function**"
      ],
      "metadata": {
        "id": "4ZTxyowbBo0W"
      }
    },
    {
      "cell_type": "markdown",
      "source": [
        "\"Measure how far an estimated value is from its true value\"\n",
        "\n",
        "OR\n",
        "\n",
        "\"The error made by our model\"\n",
        "\n",
        "It is helpful to determine which model performs better and which parameters are better\n",
        "\n",
        "Lower loss value means better prediction\n",
        "\n",
        "loss = (1/n) (Yi-y^)**2\n",
        "Types of loss Function:\n",
        "Cross Entropy loss\n",
        "Squared Error Loss\n",
        "KL Divergence\n",
        "\n",
        "\n",
        "Note: Low Loss Value means High Accuracy"
      ],
      "metadata": {
        "id": "xD5odBf6BuB8"
      }
    },
    {
      "cell_type": "markdown",
      "source": [
        "# **Model Evaluation in Machine Learning**\n"
      ],
      "metadata": {
        "id": "tGgj1aK-LpFA"
      }
    },
    {
      "cell_type": "markdown",
      "source": [
        "Workflow of a ML project:\n",
        "data --> Data Pre-processing --> Data Analysis -->Train Test Split --> Machine Learning Model --> Evaluation\n",
        "\n",
        "Evaluation matrix for Classification: Accuracy Score (\"Accuracy Score is the ratio of number of correct predictions to the total number of input data points\")\n",
        "\n",
        "Accuracy Score Formula: Accuracy Score = (Number of correct predictions/Total number of data points)*100 %\n",
        "library for Accuracy Score: \n",
        "from sklearn.metrics import accuracy_score\n",
        "\n",
        "\n",
        "**Evaluation matrix for Regression: Mean Squared Error**\n",
        "Mean Square Error measures the average of the square of the errors, that is, the average squared diference between the estimated values and the actual value. \n",
        "\n",
        "MSE = (1/n) summation(Y-y^)**2\n",
        "\n",
        "If the MSE value is less, then our model is performing better.\n",
        "\n",
        "from sklearn.metrics import mean_squared_error "
      ],
      "metadata": {
        "id": "ELF6W9KZL3Q_"
      }
    },
    {
      "cell_type": "markdown",
      "source": [
        "#Model Parameters and Hypermeters"
      ],
      "metadata": {
        "id": "DNxzWoM7SUoX"
      }
    },
    {
      "cell_type": "markdown",
      "source": [
        "Types of Paramter:\n",
        "1. Model Parameter\n",
        "\"These are the parameters of the model that can be determined by training with training data.These can be considered as internal paramter\"\n",
        "  1. Weight (How much influence the input will have on the output)\n",
        "  2. Bias (Bias is the offset value given to the model. Bias is used to shift the model in a particular direction. It is similar ro a Y-intercepts. 'b' is equal to 'y' when all feature values are zero.)\n",
        " \n",
        "Y = w*X + b\n",
        "X = feature or input variable\n",
        "Y = Target or output variable\n",
        "W = weight\n",
        "b = bia\n",
        "2. Hyperparameter:\n",
        "\"The parameters whose values control the learning process. These are adjustable parameters used to obtain an optimal model. External Paramaters.\"\n",
        "1. Learning rate (It is a tuning parameter in optimization algorithm that determines the step size at each iteration while moving toward a minimum of a loss function.)\n",
        "2. Number of Epochs (Number of times we trained the model in a particular data)-(No of times the model iterates over the entire dataset.)\n",
        "High number of epochs means hig chances that the model will overfit. and low number of epochs chances of underfitting.\n"
      ],
      "metadata": {
        "id": "vL61A4aCSZr4"
      }
    },
    {
      "cell_type": "markdown",
      "source": [
        "# Gradient Descent"
      ],
      "metadata": {
        "id": "RvB24chwjEmm"
      }
    },
    {
      "cell_type": "markdown",
      "source": [
        "**Model Optimization:**\n",
        "\"Refers to determine the best parameters for a mode, such that the loss fucntion of the model decreases, as a result of which the model predict more accurately.\""
      ],
      "metadata": {
        "id": "jCNBMcobjIa2"
      }
    },
    {
      "cell_type": "markdown",
      "source": [],
      "metadata": {
        "id": "t_hepVhjm0pz"
      }
    }
  ]
}